{
 "cells": [
  {
   "cell_type": "code",
   "execution_count": 33,
   "metadata": {},
   "outputs": [],
   "source": [
    "import os\n",
    "import json\n",
    "import numpy as np\n",
    "import pandas as pd\n",
    "\n",
    "from sklearn.model_selection import train_test_split\n",
    "from sklearn.preprocessing import OneHotEncoder, LabelEncoder, StandardScaler\n",
    "from keras.utils import to_categorical\n",
    "\n",
    "import matplotlib.pyplot as plt\n",
    "import eel\n",
    "from starknet_py.net.full_node_client import FullNodeClient\n",
    "from starknet_py.net.account.account import Account\n",
    "from starknet_py.net.models.chains import StarknetChainId\n",
    "from starknet_py.net.signer.stark_curve_signer import KeyPair\n",
    "from starknet_py.contract import Contract\n",
    "from starknet_py.cairo.felt import encode_shortstring\n",
    "from starknet_py.common import create_sierra_compiled_contract\n",
    "from starknet_py.common import create_casm_class\n",
    "from starknet_py.hash.casm_class_hash import compute_casm_class_hash\n",
    "from starknet_py.net.client_models import ResourceBounds, EstimatedFee, PriceUnit\n",
    "from pprint import pprint\n",
    "\n",
    "from typing import List, Optional, Tuple\n",
    "from common import globalState\n",
    "\n",
    "import pandas as pd\n",
    "\n",
    "# import aioconsole\n",
    "import asyncio\n",
    "\n",
    "import numpy as np\n",
    "\n",
    "from basic_conversions import wfloat, wfloat_to_float, to_hex, from_hex\n",
    "\n",
    "# ----------------------------------------------------------------------\n",
    "\n",
    "ACCOUNTS_PATH = os.path.join(\"data\", \"sepolia.json\")\n",
    "\n",
    "RESSOURCE_BOUND_COMMON = ResourceBounds(59806, 342990458309864)\n",
    "RESOURCE_BOUND_UPDATE_PREDICTION = RESSOURCE_BOUND_COMMON\n",
    "RESOURCE_BOUND_UPDATE_PROPOSITION = RESSOURCE_BOUND_COMMON\n",
    "RESOURCE_BOUND_VOTE_FOR_A_PREDICTION = RESSOURCE_BOUND_COMMON\n"
   ]
  },
  {
   "cell_type": "code",
   "execution_count": 34,
   "metadata": {},
   "outputs": [],
   "source": [
    "account = Account(\n",
    "    client=globalState.client,\n",
    "    address=\"0x014C66E352A24Ae28c31d215a0dBf49bc1c349c2a00863Af42F5b56b41f37803\",\n",
    "    key_pair=KeyPair.from_private_key(\"0x07b9c4b60fc17db5aa92ca508adc83cd83e5a2133110badb7177e3a55963144a\"),\n",
    "    chain=StarknetChainId.SEPOLIA\n",
    ")"
   ]
  },
  {
   "cell_type": "code",
   "execution_count": 35,
   "metadata": {},
   "outputs": [],
   "source": [
    "SAMPLE_SIZE = 5\n",
    "DATASET_PATH = os.path.join(\"..\", \"data\", \"star_classification.csv\")\n",
    "\n",
    "\n",
    "df = pd.read_csv(DATASET_PATH)\n",
    "\n",
    "X = df.drop(columns=[\"class\"])\n",
    "scaler = StandardScaler()\n",
    "X_normalized = pd.DataFrame(scaler.fit_transform(X), columns=X.columns)\n",
    "X_normalized = X_normalized.astype(float)\n",
    "X = X_normalized.to_numpy()\n",
    "\n",
    "Y = df[\"class\"]\n",
    "Y = np.array(LabelEncoder().fit_transform(y=Y.values))\n",
    "Y = np.array(OneHotEncoder().fit_transform(Y.reshape(-1, 1)).toarray()).astype(float)\n",
    "\n",
    "train_X, test_X, train_Y, test_Y = train_test_split(X, Y, test_size=0.2, random_state=42)\n",
    "\n",
    "train_X = np.array(train_X)\n",
    "train_Y = np.array(train_Y)\n",
    "test_X = np.array(test_X)\n",
    "test_Y = np.array(test_Y)"
   ]
  },
  {
   "cell_type": "code",
   "execution_count": 36,
   "metadata": {},
   "outputs": [],
   "source": [
    "sample = train_X[:5]"
   ]
  },
  {
   "cell_type": "code",
   "execution_count": 37,
   "metadata": {},
   "outputs": [],
   "source": [
    "contract = await Contract.from_address(\n",
    "            provider=account, \n",
    "            address=globalState.DEPLOYED_ADDRESS\n",
    ")"
   ]
  },
  {
   "cell_type": "code",
   "execution_count": 38,
   "metadata": {},
   "outputs": [],
   "source": [
    "inputs_as_felt = [\n",
    "    [ wfloat(x) for x in line ] for line in sample\n",
    "]"
   ]
  },
  {
   "cell_type": "code",
   "execution_count": 39,
   "metadata": {},
   "outputs": [],
   "source": [
    "result = await contract.functions[\"predict\"].invoke_v3(\n",
    "            inputs=inputs_as_felt, for_storage=True, \n",
    "            l1_resource_bounds=RESOURCE_BOUND_UPDATE_PREDICTION\n",
    "        )"
   ]
  },
  {
   "cell_type": "code",
   "execution_count": 44,
   "metadata": {},
   "outputs": [
    {
     "data": {
      "text/plain": [
       "InvokeV3(version=3, signature=[2324044856980178042615093385415274431713584631949878438276124836202759323824, 3243368416688376737649141283247536364614583956684215900899115734625359730917], nonce=67, resource_bounds=ResourceBoundsMapping(l1_gas=ResourceBounds(max_amount=59806, max_price_per_unit=342990458309864), l2_gas=ResourceBounds(max_amount=0, max_price_per_unit=0)), tip=0, nonce_data_availability_mode=<DAMode.L1: 0>, fee_data_availability_mode=<DAMode.L1: 0>, paymaster_data=[], calldata=[1, 471281052904487870154949072672806528197351462040762969268927468450700519413, 788312007879804315456320911315011427471948705966062620826543392582291438000, 92, 5, 17, 3618502788666131213697322783095070105623107215331596699973092056135871624982, 3618502788666131213697322783095070105623107215331596699973092056135871786583, 780705, 10765, 27393, 467587, 308356, 21403, 3618502788666131213697322783095070105623107215331596699973092056135871624826, 0, 1568078, 3618502788666131213697322783095070105623107215331596699973092056135871784723, 3618502788666131213697322783095070105623107215331596699973092056135871825682, 113873, 3618502788666131213697322783095070105623107215331596699973092056135871825714, 3618502788666131213697322783095070105623107215331596699973092056135872010170, 3618502788666131213697322783095070105623107215331596699973092056135870536749, 17, 1679514, 3618502788666131213697322783095070105623107215331596699973092056135870482248, 456474, 121954, 116356, 991711, 739186, 22675, 1679412, 0, 937920, 3618502788666131213697322783095070105623107215331596699973092056135871549839, 880013, 324560, 879991, 1408563, 1151158, 17, 357014, 3618502788666131213697322783095070105623107215331596699973092056135871669723, 3618502788666131213697322783095070105623107215331596699973092056135871650001, 20366, 27913, 3618502788666131213697322783095070105623107215331596699973092056135871967287, 3618502788666131213697322783095070105623107215331596699973092056135871902639, 3618502788666131213697322783095070105623107215331596699973092056135872011965, 357110, 0, 3618502788666131213697322783095070105623107215331596699973092056135871067929, 3618502788666131213697322783095070105623107215331596699973092056135871361933, 60970, 3618502788666131213697322783095070105623107215331596699973092056135871784566, 60966, 227458, 182340, 17, 18803, 3618502788666131213697322783095070105623107215331596699973092056135871783436, 536754, 3618502788666131213697322783095070105623107215331596699973092056135871966306, 3618502788666131213697322783095070105623107215331596699973092056135871957568, 3618502788666131213697322783095070105623107215331596699973092056135870907473, 3618502788666131213697322783095070105623107215331596699973092056135870930960, 3618502788666131213697322783095070105623107215331596699973092056135871963298, 18645, 0, 1568078, 3618502788666131213697322783095070105623107215331596699973092056135871972629, 3618502788666131213697322783095070105623107215331596699973092056135870942306, 3618502788666131213697322783095070105623107215331596699973092056135871380248, 3618502788666131213697322783095070105623107215331596699973092056135870942332, 3618502788666131213697322783095070105623107215331596699973092056135870786488, 3618502788666131213697322783095070105623107215331596699973092056135870602805, 17, 3618502788666131213697322783095070105623107215331596699973092056135871724553, 361556, 625845, 1839, 29405, 907662, 1238047, 78871, 3618502788666131213697322783095070105623107215331596699973092056135871724584, 0, 3618502788666131213697322783095070105623107215331596699973092056135871698087, 2247290, 3618502788666131213697322783095070105623107215331596699973092056135871586261, 3618502788666131213697322783095070105623107215331596699973092056135871229874, 3618502788666131213697322783095070105623107215331596699973092056135871586239, 3618502788666131213697322783095070105623107215331596699973092056135871843179, 883265, 1], sender_address=587303332244060864994233902435217026915474059737913154116308073776340498435, account_deployment_data=[], type=<TransactionType.INVOKE: 'INVOKE'>)"
      ]
     },
     "execution_count": 44,
     "metadata": {},
     "output_type": "execute_result"
    }
   ],
   "source": [
    "result.invoke_transaction"
   ]
  },
  {
   "cell_type": "code",
   "execution_count": null,
   "metadata": {},
   "outputs": [],
   "source": []
  }
 ],
 "metadata": {
  "kernelspec": {
   "display_name": "base",
   "language": "python",
   "name": "python3"
  },
  "language_info": {
   "codemirror_mode": {
    "name": "ipython",
    "version": 3
   },
   "file_extension": ".py",
   "mimetype": "text/x-python",
   "name": "python",
   "nbconvert_exporter": "python",
   "pygments_lexer": "ipython3",
   "version": "3.11.5"
  }
 },
 "nbformat": 4,
 "nbformat_minor": 2
}
