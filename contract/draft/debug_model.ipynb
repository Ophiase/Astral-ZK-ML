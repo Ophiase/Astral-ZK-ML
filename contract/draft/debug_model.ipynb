{
 "cells": [
  {
   "cell_type": "code",
   "execution_count": 25,
   "metadata": {},
   "outputs": [
    {
     "name": "stderr",
     "output_type": "stream",
     "text": [
      "2024-07-13 17:25:30.766941: I tensorflow/core/platform/cpu_feature_guard.cc:182] This TensorFlow binary is optimized to use available CPU instructions in performance-critical operations.\n",
      "To enable the following instructions: SSE4.1 SSE4.2 AVX AVX2 AVX512F AVX512_VNNI FMA, in other operations, rebuild TensorFlow with the appropriate compiler flags.\n"
     ]
    }
   ],
   "source": [
    "import os\n",
    "import json\n",
    "import numpy as np\n",
    "import pandas as pd\n",
    "\n",
    "from sklearn.model_selection import train_test_split\n",
    "from sklearn.preprocessing import OneHotEncoder, LabelEncoder, StandardScaler\n",
    "from keras.utils import to_categorical"
   ]
  },
  {
   "cell_type": "markdown",
   "metadata": {},
   "source": [
    "---"
   ]
  },
  {
   "cell_type": "code",
   "execution_count": 12,
   "metadata": {},
   "outputs": [],
   "source": [
    "DATASET_PATH = os.path.join(\"..\", \"..\", \"data\", \"star_types.csv\")"
   ]
  },
  {
   "cell_type": "code",
   "execution_count": 13,
   "metadata": {},
   "outputs": [
    {
     "data": {
      "text/html": [
       "<div>\n",
       "<style scoped>\n",
       "    .dataframe tbody tr th:only-of-type {\n",
       "        vertical-align: middle;\n",
       "    }\n",
       "\n",
       "    .dataframe tbody tr th {\n",
       "        vertical-align: top;\n",
       "    }\n",
       "\n",
       "    .dataframe thead th {\n",
       "        text-align: right;\n",
       "    }\n",
       "</style>\n",
       "<table border=\"1\" class=\"dataframe\">\n",
       "  <thead>\n",
       "    <tr style=\"text-align: right;\">\n",
       "      <th></th>\n",
       "      <th>Temperature (K)</th>\n",
       "      <th>Luminosity(L/Lo)</th>\n",
       "      <th>Radius(R/Ro)</th>\n",
       "      <th>Absolute magnitude(Mv)</th>\n",
       "      <th>Star type</th>\n",
       "      <th>Star color</th>\n",
       "      <th>Spectral Class</th>\n",
       "    </tr>\n",
       "  </thead>\n",
       "  <tbody>\n",
       "    <tr>\n",
       "      <th>0</th>\n",
       "      <td>3068</td>\n",
       "      <td>0.002400</td>\n",
       "      <td>0.1700</td>\n",
       "      <td>16.12</td>\n",
       "      <td>0</td>\n",
       "      <td>Red</td>\n",
       "      <td>M</td>\n",
       "    </tr>\n",
       "    <tr>\n",
       "      <th>1</th>\n",
       "      <td>3042</td>\n",
       "      <td>0.000500</td>\n",
       "      <td>0.1542</td>\n",
       "      <td>16.60</td>\n",
       "      <td>0</td>\n",
       "      <td>Red</td>\n",
       "      <td>M</td>\n",
       "    </tr>\n",
       "    <tr>\n",
       "      <th>2</th>\n",
       "      <td>2600</td>\n",
       "      <td>0.000300</td>\n",
       "      <td>0.1020</td>\n",
       "      <td>18.70</td>\n",
       "      <td>0</td>\n",
       "      <td>Red</td>\n",
       "      <td>M</td>\n",
       "    </tr>\n",
       "    <tr>\n",
       "      <th>3</th>\n",
       "      <td>2800</td>\n",
       "      <td>0.000200</td>\n",
       "      <td>0.1600</td>\n",
       "      <td>16.65</td>\n",
       "      <td>0</td>\n",
       "      <td>Red</td>\n",
       "      <td>M</td>\n",
       "    </tr>\n",
       "    <tr>\n",
       "      <th>4</th>\n",
       "      <td>1939</td>\n",
       "      <td>0.000138</td>\n",
       "      <td>0.1030</td>\n",
       "      <td>20.06</td>\n",
       "      <td>0</td>\n",
       "      <td>Red</td>\n",
       "      <td>M</td>\n",
       "    </tr>\n",
       "  </tbody>\n",
       "</table>\n",
       "</div>"
      ],
      "text/plain": [
       "   Temperature (K)  Luminosity(L/Lo)  Radius(R/Ro)  Absolute magnitude(Mv)  \\\n",
       "0             3068          0.002400        0.1700                   16.12   \n",
       "1             3042          0.000500        0.1542                   16.60   \n",
       "2             2600          0.000300        0.1020                   18.70   \n",
       "3             2800          0.000200        0.1600                   16.65   \n",
       "4             1939          0.000138        0.1030                   20.06   \n",
       "\n",
       "   Star type Star color Spectral Class  \n",
       "0          0        Red              M  \n",
       "1          0        Red              M  \n",
       "2          0        Red              M  \n",
       "3          0        Red              M  \n",
       "4          0        Red              M  "
      ]
     },
     "execution_count": 13,
     "metadata": {},
     "output_type": "execute_result"
    }
   ],
   "source": [
    "df = pd.read_csv(DATASET_PATH)\n",
    "df.head()"
   ]
  },
  {
   "cell_type": "code",
   "execution_count": 27,
   "metadata": {},
   "outputs": [],
   "source": [
    "# --------------------------------------------------------------------------------------\n",
    "label_encoder_color = LabelEncoder()\n",
    "df['Star color'] = label_encoder_color.fit_transform(df['Star color'])\n",
    "label_encoder_class = LabelEncoder()\n",
    "df['Spectral Class'] = label_encoder_class.fit_transform(df['Spectral Class'])\n",
    "\n",
    "df[\"Temperature (K)\"] = df[\"Temperature (K)\"].astype(float)\n",
    "df[\"Luminosity(L/Lo)\"] = (df[\"Luminosity(L/Lo)\"] * 1e5).astype(float)\n",
    "df[\"Radius(R/Ro)\"] = (df[\"Radius(R/Ro)\"] * 1e3).astype(float)\n",
    "df[\"Absolute magnitude(Mv)\"] = (df[\"Absolute magnitude(Mv)\"] * 1e2).astype(float)\n",
    "# --------------------------------------------------------------------------------------\n",
    "df[\"Star type\"] = df[\"Star type\"].astype(int)\n",
    "# --------------------------------------------------------------------------------------\n",
    "scaler = StandardScaler()\n",
    "df[[\"Temperature (K)\", \"Luminosity(L/Lo)\", \"Radius(R/Ro)\", \"Absolute magnitude(Mv)\"]] = scaler.fit_transform(\n",
    "    df[[\"Temperature (K)\", \"Luminosity(L/Lo)\", \"Radius(R/Ro)\", \"Absolute magnitude(Mv)\"]]\n",
    ")\n",
    "# --------------------------------------------------------------------------------------\n",
    "X = df[[\"Temperature (K)\", \"Luminosity(L/Lo)\", \"Radius(R/Ro)\", \"Absolute magnitude(Mv)\", \"Star color\", \"Spectral Class\"]].values\n",
    "y = to_categorical(df[\"Star type\"].values)"
   ]
  },
  {
   "cell_type": "code",
   "execution_count": 30,
   "metadata": {},
   "outputs": [],
   "source": [
    "train_X, test_X, train_Y, test_Y = train_test_split(X, y, test_size=0.2, random_state=42)\n",
    "\n",
    "train_X = np.array(train_X)\n",
    "train_Y = np.array(train_Y)\n",
    "test_X = np.array(test_X)\n",
    "test_Y = np.array(test_Y)"
   ]
  },
  {
   "cell_type": "markdown",
   "metadata": {},
   "source": [
    "---"
   ]
  },
  {
   "cell_type": "code",
   "execution_count": 44,
   "metadata": {},
   "outputs": [],
   "source": [
    "UPPER_BOUND_FELT252 = 3618502788666131213697322783095070105623107215331596699973092056135872020481\n",
    "UPPER_BOUND__I128 = (2**127) - 1 # included\n",
    "\n",
    "# wfloat for wsad as felt252\n",
    "def wfloat_to_float(x) -> float :\n",
    "    return float(\n",
    "        (x - UPPER_BOUND_FELT252) if x > UPPER_BOUND__I128 \\\n",
    "        else x\n",
    "    ) * 1e-6\n",
    "\n",
    "# wfloat for wsad as felt252\n",
    "def wfloat(x : float) :\n",
    "    as_wsad = int(x*1e6)\n",
    "    return (\n",
    "        as_wsad + UPPER_BOUND_FELT252 if as_wsad < 0 \\\n",
    "        else as_wsad\n",
    "    )\n",
    "\n",
    "def to_hex(x: int) -> str:\n",
    "    return f\"0x{x:0x}\"\n",
    "\n",
    "def from_hex(x : str) -> int:\n",
    "    return int(x, 16)\n",
    "\n",
    "def matrix_to_wfloat(matrix) :\n",
    "    return np.array([np.array([wfloat(x) for x in H]) for H in matrix])"
   ]
  },
  {
   "cell_type": "code",
   "execution_count": 48,
   "metadata": {},
   "outputs": [
    {
     "name": "stdout",
     "output_type": "stream",
     "text": [
      "[[3618502788666131213697322783095070105623107215331596699973092056135871290719\n",
      "  3618502788666131213697322783095070105623107215331596699973092056135871421858\n",
      "  3618502788666131213697322783095070105623107215331596699973092056135871561438\n",
      "  946440 10000000 5000000]\n",
      " [3618502788666131213697322783095070105623107215331596699973092056135871269738\n",
      "  3618502788666131213697322783095070105623107215331596699973092056135871421858\n",
      "  3618502788666131213697322783095070105623107215331596699973092056135871561053\n",
      "  1127211 10000000 5000000]\n",
      " [822715\n",
      "  3618502788666131213697322783095070105623107215331596699973092056135871421858\n",
      "  3618502788666131213697322783095070105623107215331596699973092056135871560966\n",
      "  650546 0 1000000]\n",
      " [3618502788666131213697322783095070105623107215331596699973092056135871230609\n",
      "  3618502788666131213697322783095070105623107215331596699973092056135871421858\n",
      "  3618502788666131213697322783095070105623107215331596699973092056135871561173\n",
      "  1243284 10000000 5000000]\n",
      " [1321220\n",
      "  3618502788666131213697322783095070105623107215331596699973092056135871421858\n",
      "  3618502788666131213697322783095070105623107215331596699973092056135871560962\n",
      "  551598 0 1000000]]\n",
      "--------------------\n",
      "[[      0 1000000       0       0       0       0]\n",
      " [1000000       0       0       0       0       0]\n",
      " [      0       0 1000000       0       0       0]\n",
      " [1000000       0       0       0       0       0]\n",
      " [      0       0 1000000       0       0       0]]\n"
     ]
    }
   ],
   "source": [
    "print(matrix_to_wfloat(train_X[:5]))\n",
    "print(\"--------------------\")\n",
    "print(matrix_to_wfloat(train_Y[:5]))"
   ]
  },
  {
   "cell_type": "code",
   "execution_count": null,
   "metadata": {},
   "outputs": [],
   "source": []
  }
 ],
 "metadata": {
  "kernelspec": {
   "display_name": "Python 3",
   "language": "python",
   "name": "python3"
  },
  "language_info": {
   "codemirror_mode": {
    "name": "ipython",
    "version": 3
   },
   "file_extension": ".py",
   "mimetype": "text/x-python",
   "name": "python",
   "nbconvert_exporter": "python",
   "pygments_lexer": "ipython3",
   "version": "3.11.5"
  }
 },
 "nbformat": 4,
 "nbformat_minor": 2
}
