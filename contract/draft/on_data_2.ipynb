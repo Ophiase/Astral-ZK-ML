{
 "cells": [
  {
   "cell_type": "code",
   "execution_count": 51,
   "metadata": {},
   "outputs": [],
   "source": [
    "import os\n",
    "import json\n",
    "import numpy as np\n",
    "import pandas as pd\n",
    "\n",
    "from sklearn.model_selection import train_test_split\n",
    "from sklearn.preprocessing import OneHotEncoder, LabelEncoder, StandardScaler\n",
    "from keras.utils import to_categorical\n",
    "\n",
    "import matplotlib.pyplot as plt"
   ]
  },
  {
   "cell_type": "markdown",
   "metadata": {},
   "source": [
    "---"
   ]
  },
  {
   "cell_type": "code",
   "execution_count": 3,
   "metadata": {},
   "outputs": [],
   "source": [
    "DATASET_PATH = os.path.join(\"..\", \"..\", \"data\", \"star_classification.csv\")"
   ]
  },
  {
   "cell_type": "code",
   "execution_count": 4,
   "metadata": {},
   "outputs": [
    {
     "data": {
      "text/html": [
       "<div>\n",
       "<style scoped>\n",
       "    .dataframe tbody tr th:only-of-type {\n",
       "        vertical-align: middle;\n",
       "    }\n",
       "\n",
       "    .dataframe tbody tr th {\n",
       "        vertical-align: top;\n",
       "    }\n",
       "\n",
       "    .dataframe thead th {\n",
       "        text-align: right;\n",
       "    }\n",
       "</style>\n",
       "<table border=\"1\" class=\"dataframe\">\n",
       "  <thead>\n",
       "    <tr style=\"text-align: right;\">\n",
       "      <th></th>\n",
       "      <th>obj_ID</th>\n",
       "      <th>alpha</th>\n",
       "      <th>delta</th>\n",
       "      <th>u</th>\n",
       "      <th>g</th>\n",
       "      <th>r</th>\n",
       "      <th>i</th>\n",
       "      <th>z</th>\n",
       "      <th>run_ID</th>\n",
       "      <th>rerun_ID</th>\n",
       "      <th>cam_col</th>\n",
       "      <th>field_ID</th>\n",
       "      <th>spec_obj_ID</th>\n",
       "      <th>class</th>\n",
       "      <th>redshift</th>\n",
       "      <th>plate</th>\n",
       "      <th>MJD</th>\n",
       "      <th>fiber_ID</th>\n",
       "    </tr>\n",
       "  </thead>\n",
       "  <tbody>\n",
       "    <tr>\n",
       "      <th>0</th>\n",
       "      <td>1.237661e+18</td>\n",
       "      <td>135.689107</td>\n",
       "      <td>32.494632</td>\n",
       "      <td>23.87882</td>\n",
       "      <td>22.27530</td>\n",
       "      <td>20.39501</td>\n",
       "      <td>19.16573</td>\n",
       "      <td>18.79371</td>\n",
       "      <td>3606</td>\n",
       "      <td>301</td>\n",
       "      <td>2</td>\n",
       "      <td>79</td>\n",
       "      <td>6.543777e+18</td>\n",
       "      <td>GALAXY</td>\n",
       "      <td>0.634794</td>\n",
       "      <td>5812</td>\n",
       "      <td>56354</td>\n",
       "      <td>171</td>\n",
       "    </tr>\n",
       "    <tr>\n",
       "      <th>1</th>\n",
       "      <td>1.237665e+18</td>\n",
       "      <td>144.826101</td>\n",
       "      <td>31.274185</td>\n",
       "      <td>24.77759</td>\n",
       "      <td>22.83188</td>\n",
       "      <td>22.58444</td>\n",
       "      <td>21.16812</td>\n",
       "      <td>21.61427</td>\n",
       "      <td>4518</td>\n",
       "      <td>301</td>\n",
       "      <td>5</td>\n",
       "      <td>119</td>\n",
       "      <td>1.176014e+19</td>\n",
       "      <td>GALAXY</td>\n",
       "      <td>0.779136</td>\n",
       "      <td>10445</td>\n",
       "      <td>58158</td>\n",
       "      <td>427</td>\n",
       "    </tr>\n",
       "    <tr>\n",
       "      <th>2</th>\n",
       "      <td>1.237661e+18</td>\n",
       "      <td>142.188790</td>\n",
       "      <td>35.582444</td>\n",
       "      <td>25.26307</td>\n",
       "      <td>22.66389</td>\n",
       "      <td>20.60976</td>\n",
       "      <td>19.34857</td>\n",
       "      <td>18.94827</td>\n",
       "      <td>3606</td>\n",
       "      <td>301</td>\n",
       "      <td>2</td>\n",
       "      <td>120</td>\n",
       "      <td>5.152200e+18</td>\n",
       "      <td>GALAXY</td>\n",
       "      <td>0.644195</td>\n",
       "      <td>4576</td>\n",
       "      <td>55592</td>\n",
       "      <td>299</td>\n",
       "    </tr>\n",
       "    <tr>\n",
       "      <th>3</th>\n",
       "      <td>1.237663e+18</td>\n",
       "      <td>338.741038</td>\n",
       "      <td>-0.402828</td>\n",
       "      <td>22.13682</td>\n",
       "      <td>23.77656</td>\n",
       "      <td>21.61162</td>\n",
       "      <td>20.50454</td>\n",
       "      <td>19.25010</td>\n",
       "      <td>4192</td>\n",
       "      <td>301</td>\n",
       "      <td>3</td>\n",
       "      <td>214</td>\n",
       "      <td>1.030107e+19</td>\n",
       "      <td>GALAXY</td>\n",
       "      <td>0.932346</td>\n",
       "      <td>9149</td>\n",
       "      <td>58039</td>\n",
       "      <td>775</td>\n",
       "    </tr>\n",
       "    <tr>\n",
       "      <th>4</th>\n",
       "      <td>1.237680e+18</td>\n",
       "      <td>345.282593</td>\n",
       "      <td>21.183866</td>\n",
       "      <td>19.43718</td>\n",
       "      <td>17.58028</td>\n",
       "      <td>16.49747</td>\n",
       "      <td>15.97711</td>\n",
       "      <td>15.54461</td>\n",
       "      <td>8102</td>\n",
       "      <td>301</td>\n",
       "      <td>3</td>\n",
       "      <td>137</td>\n",
       "      <td>6.891865e+18</td>\n",
       "      <td>GALAXY</td>\n",
       "      <td>0.116123</td>\n",
       "      <td>6121</td>\n",
       "      <td>56187</td>\n",
       "      <td>842</td>\n",
       "    </tr>\n",
       "  </tbody>\n",
       "</table>\n",
       "</div>"
      ],
      "text/plain": [
       "         obj_ID       alpha      delta         u         g         r  \\\n",
       "0  1.237661e+18  135.689107  32.494632  23.87882  22.27530  20.39501   \n",
       "1  1.237665e+18  144.826101  31.274185  24.77759  22.83188  22.58444   \n",
       "2  1.237661e+18  142.188790  35.582444  25.26307  22.66389  20.60976   \n",
       "3  1.237663e+18  338.741038  -0.402828  22.13682  23.77656  21.61162   \n",
       "4  1.237680e+18  345.282593  21.183866  19.43718  17.58028  16.49747   \n",
       "\n",
       "          i         z  run_ID  rerun_ID  cam_col  field_ID   spec_obj_ID  \\\n",
       "0  19.16573  18.79371    3606       301        2        79  6.543777e+18   \n",
       "1  21.16812  21.61427    4518       301        5       119  1.176014e+19   \n",
       "2  19.34857  18.94827    3606       301        2       120  5.152200e+18   \n",
       "3  20.50454  19.25010    4192       301        3       214  1.030107e+19   \n",
       "4  15.97711  15.54461    8102       301        3       137  6.891865e+18   \n",
       "\n",
       "    class  redshift  plate    MJD  fiber_ID  \n",
       "0  GALAXY  0.634794   5812  56354       171  \n",
       "1  GALAXY  0.779136  10445  58158       427  \n",
       "2  GALAXY  0.644195   4576  55592       299  \n",
       "3  GALAXY  0.932346   9149  58039       775  \n",
       "4  GALAXY  0.116123   6121  56187       842  "
      ]
     },
     "execution_count": 4,
     "metadata": {},
     "output_type": "execute_result"
    }
   ],
   "source": [
    "df = pd.read_csv(DATASET_PATH)\n",
    "df.head()"
   ]
  },
  {
   "cell_type": "code",
   "execution_count": 43,
   "metadata": {},
   "outputs": [],
   "source": [
    "X = df.drop(columns=[\"class\"])\n",
    "scaler = StandardScaler()\n",
    "X_normalized = pd.DataFrame(scaler.fit_transform(X), columns=X.columns)\n",
    "X_normalized = X_normalized.astype(float)\n",
    "X = X_normalized.to_numpy()\n",
    "\n",
    "Y = df[\"class\"]\n",
    "Y = np.array(LabelEncoder().fit_transform(y=Y.values))\n",
    "Y = np.array(OneHotEncoder().fit_transform(Y.reshape(-1, 1)).toarray()).astype(float)"
   ]
  },
  {
   "cell_type": "code",
   "execution_count": 92,
   "metadata": {},
   "outputs": [],
   "source": [
    "train_X, test_X, train_Y, test_Y = train_test_split(X, Y, test_size=0.2, random_state=42)\n",
    "\n",
    "train_X = np.array(train_X)#[:50000])\n",
    "train_Y = np.array(train_Y)#[:50000])\n",
    "test_X = np.array(test_X)\n",
    "test_Y = np.array(test_Y)"
   ]
  },
  {
   "cell_type": "markdown",
   "metadata": {},
   "source": [
    "## From Scratch\n",
    "---"
   ]
  },
  {
   "cell_type": "code",
   "execution_count": 93,
   "metadata": {},
   "outputs": [
    {
     "name": "stdout",
     "output_type": "stream",
     "text": [
      "(80000, 17) (80000, 3)\n"
     ]
    }
   ],
   "source": [
    "print(train_X.shape, train_Y.shape)"
   ]
  },
  {
   "cell_type": "code",
   "execution_count": 94,
   "metadata": {},
   "outputs": [],
   "source": [
    "import basic_model_sample\n",
    "from basic_model_sample import DenseLayer, Sequential, SGD\n",
    "from basic_conversions import matrix_to_wfloat, matrix_as_felt_string, vector_as_felt_string"
   ]
  },
  {
   "cell_type": "code",
   "execution_count": 113,
   "metadata": {},
   "outputs": [
    {
     "name": "stdout",
     "output_type": "stream",
     "text": [
      "num params:  323\n",
      "Epoch 1, Loss: 0.21716289882345172\n",
      "Epoch 11, Loss: 0.1879204712108842\n",
      "Epoch 21, Loss: 0.18791910260108868\n",
      "prediction \n",
      "[[0.59473395 0.18986783 0.21539007]\n",
      " [0.59468821 0.18984909 0.21542234]\n",
      " [0.59476232 0.18982786 0.21539311]\n",
      " ...\n",
      " [0.59469647 0.18985792 0.21540672]\n",
      " [0.59471967 0.18987194 0.21540541]\n",
      " [0.5947018  0.18984664 0.21542786]]\n",
      "Final loss on test set: 0.18838149593245027\n"
     ]
    }
   ],
   "source": [
    "layers = [\n",
    "    DenseLayer(input_shape=train_X.shape[1], output_shape=10, activation=\"ReLU\"), \n",
    "    DenseLayer(output_shape=10, activation=\"ReLU\"), \n",
    "    DenseLayer(output_shape=train_Y.shape[1], activation=\"ReLU\"), \n",
    "]\n",
    "\n",
    "network = Sequential(layers, SGD(learning_rate=0.01))\n",
    "network.build()\n",
    "print(\"num params: \", network.num_params())\n",
    "\n",
    "# print(f\"Num params: {network.num_params()}\")\n",
    "\n",
    "network.train(train_X, train_Y, epochs=30, batch_size=1000, verbose=True)\n",
    "\n",
    "predictions = network.forward(test_X)\n",
    "print(f\"prediction \\n{predictions}\")\n",
    "loss = network.mse_loss(predictions, test_Y)\n",
    "print(f\"Final loss on test set: {loss}\")"
   ]
  },
  {
   "cell_type": "code",
   "execution_count": 114,
   "metadata": {},
   "outputs": [
    {
     "data": {
      "image/png": "[encoded data removed]",
      "text/plain": [
       "<Figure size 640x480 with 1 Axes>"
      ]
     },
     "metadata": {},
     "output_type": "display_data"
    }
   ],
   "source": [
    "plt.plot(network.loss_history)\n",
    "plt.title('Loss History')\n",
    "plt.xlabel('Epochs')\n",
    "plt.ylabel('Loss')\n",
    "plt.show()"
   ]
  },
  {
   "cell_type": "markdown",
   "metadata": {},
   "source": [
    "# Keras check\n",
    "---"
   ]
  },
  {
   "cell_type": "code",
   "execution_count": 120,
   "metadata": {},
   "outputs": [
    {
     "name": "stdout",
     "output_type": "stream",
     "text": [
      "Model: \"sequential_3\"\n",
      "_________________________________________________________________\n",
      " Layer (type)                Output Shape              Param #   \n",
      "=================================================================\n",
      " dense_9 (Dense)             (None, 10)                180       \n",
      "                                                                 \n",
      " dense_10 (Dense)            (None, 10)                110       \n"
     ]
    },
    {
     "name": "stdout",
     "output_type": "stream",
     "text": [
      "                                                                 \n",
      " dense_11 (Dense)            (None, 3)                 33        \n",
      "                                                                 \n",
      "=================================================================\n",
      "Total params: 323\n",
      "Trainable params: 323\n",
      "Non-trainable params: 0\n",
      "_________________________________________________________________\n",
      "Epoch 1/20\n",
      "80/80 [==============================] - 1s 8ms/step - loss: 0.3027\n",
      "Epoch 2/20\n",
      "80/80 [==============================] - 1s 13ms/step - loss: 0.2422\n",
      "Epoch 3/20\n",
      "80/80 [==============================] - 1s 9ms/step - loss: 0.2139\n",
      "Epoch 4/20\n",
      "80/80 [==============================] - 1s 9ms/step - loss: 0.2054\n",
      "Epoch 5/20\n",
      "80/80 [==============================] - 1s 9ms/step - loss: 0.2004\n",
      "Epoch 6/20\n",
      "80/80 [==============================] - 1s 12ms/step - loss: 0.1966\n",
      "Epoch 7/20\n",
      "80/80 [==============================] - 1s 7ms/step - loss: 0.1934\n",
      "Epoch 8/20\n",
      "80/80 [==============================] - 1s 7ms/step - loss: 0.1906\n",
      "Epoch 9/20\n",
      "80/80 [==============================] - 1s 7ms/step - loss: 0.1882\n",
      "Epoch 10/20\n",
      "80/80 [==============================] - 1s 9ms/step - loss: 0.1860\n",
      "Epoch 11/20\n",
      "80/80 [==============================] - 1s 7ms/step - loss: 0.1841\n",
      "Epoch 12/20\n",
      "80/80 [==============================] - 1s 9ms/step - loss: 0.1823\n",
      "Epoch 13/20\n",
      "80/80 [==============================] - 1s 9ms/step - loss: 0.1807\n",
      "Epoch 14/20\n",
      "80/80 [==============================] - 1s 10ms/step - loss: 0.1793\n",
      "Epoch 15/20\n",
      "80/80 [==============================] - 1s 14ms/step - loss: 0.1779\n",
      "Epoch 16/20\n",
      "80/80 [==============================] - 1s 10ms/step - loss: 0.1766\n",
      "Epoch 17/20\n",
      "80/80 [==============================] - 1s 10ms/step - loss: 0.1754\n",
      "Epoch 18/20\n",
      "80/80 [==============================] - 1s 11ms/step - loss: 0.1743\n",
      "Epoch 19/20\n",
      "80/80 [==============================] - 1s 9ms/step - loss: 0.1732\n",
      "Epoch 20/20\n",
      "80/80 [==============================] - 1s 12ms/step - loss: 0.1721\n",
      "625/625 [==============================] - 4s 6ms/step\n",
      "prediction \n",
      "[[0.66237795 0.         0.09133846]\n",
      " [0.61216915 0.05307157 0.03757256]\n",
      " [0.9654733  0.         0.323169  ]\n",
      " ...\n",
      " [0.68507636 0.00734279 0.19669789]\n",
      " [0.6769705  0.         0.06331372]\n",
      " [0.7221992  0.         0.28695175]]\n",
      "Final loss on test set: 0.17296089231967926\n"
     ]
    }
   ],
   "source": [
    "from tensorflow.keras.models import Sequential\n",
    "from tensorflow.keras.layers import Dense\n",
    "from tensorflow.keras.optimizers import SGD\n",
    "from tensorflow.keras.losses import MeanSquaredError, CategoricalCrossentropy\n",
    "\n",
    "model = Sequential([\n",
    "    Dense(10, input_dim=train_X.shape[1], activation='relu'),\n",
    "    Dense(10, activation='relu'),\n",
    "    Dense(train_Y.shape[1], activation='relu')\n",
    "])\n",
    "\n",
    "model.compile(optimizer=SGD(learning_rate=0.01), loss=MeanSquaredError())\n",
    "\n",
    "model.build(input_shape=(None, train_X.shape[1]))\n",
    "model.summary()\n",
    "\n",
    "history = model.fit(train_X, train_Y, epochs=20, batch_size=1000, verbose=1)\n",
    "\n",
    "predictions = model.predict(test_X)\n",
    "print(f\"prediction \\n{predictions}\")\n",
    "\n",
    "loss = model.evaluate(test_X, test_Y, verbose=0)\n",
    "print(f\"Final loss on test set: {loss}\")"
   ]
  },
  {
   "cell_type": "code",
   "execution_count": 124,
   "metadata": {},
   "outputs": [
    {
     "data": {
      "image/png": "[encoded data removed]",
      "text/plain": [
       "<Figure size 640x480 with 1 Axes>"
      ]
     },
     "metadata": {},
     "output_type": "display_data"
    }
   ],
   "source": [
    "plt.plot(history.history['loss'])\n",
    "plt.title('Loss History')\n",
    "plt.xlabel('Epochs')\n",
    "plt.ylabel('Loss')\n",
    "plt.show()"
   ]
  },
  {
   "cell_type": "code",
   "execution_count": null,
   "metadata": {},
   "outputs": [],
   "source": []
  }
 ],
 "metadata": {
  "kernelspec": {
   "display_name": "Python 3",
   "language": "python",
   "name": "python3"
  },
  "language_info": {
   "codemirror_mode": {
    "name": "ipython",
    "version": 3
   },
   "file_extension": ".py",
   "mimetype": "text/x-python",
   "name": "python",
   "nbconvert_exporter": "python",
   "pygments_lexer": "ipython3",
   "version": "3.11.5"
  }
 },
 "nbformat": 4,
 "nbformat_minor": 2
}
